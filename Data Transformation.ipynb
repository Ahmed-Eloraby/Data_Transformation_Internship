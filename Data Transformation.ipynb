{
 "cells": [
  {
   "cell_type": "markdown",
   "id": "1c98e8ef",
   "metadata": {},
   "source": [
    "## Imports"
   ]
  },
  {
   "cell_type": "code",
   "execution_count": 1,
   "id": "db4381b1",
   "metadata": {},
   "outputs": [],
   "source": [
    "import pandas as pd\n",
    "import os\n",
    "import numpy as np\n"
   ]
  },
  {
   "cell_type": "markdown",
   "id": "bcd66061",
   "metadata": {},
   "source": [
    "## Functions "
   ]
  },
  {
   "cell_type": "markdown",
   "id": "2e5fc642",
   "metadata": {},
   "source": [
    "### Find Each Table's primary key"
   ]
  },
  {
   "cell_type": "code",
   "execution_count": 2,
   "id": "a33b18f5",
   "metadata": {},
   "outputs": [],
   "source": [
    "def pk_finder(name, df):\n",
    "    for i in range(len(df.columns)):\n",
    "        col = df.iloc[:,i]\n",
    "        #if(col.size == col.drop_duplicates().size):\n",
    "        if(col.nunique() == col.size):\n",
    "            pk[name] = df.columns[i] \n",
    "            break\n",
    "        "
   ]
  },
  {
   "cell_type": "markdown",
   "id": "5649ff29",
   "metadata": {},
   "source": [
    "### Find Each Table's foreign key\n"
   ]
  },
  {
   "cell_type": "code",
   "execution_count": 3,
   "id": "c36338f1",
   "metadata": {},
   "outputs": [],
   "source": [
    "def fk_finder(name, df):\n",
    "    for i in range(len(df.columns)):\n",
    "        col_name = df.columns[i]\n",
    "        col = df.iloc[:,i]\n",
    "        if(list(df.columns)[i] not in pk):\n",
    "            flag = True\n",
    "            for j in pk: #loops on the key j = table names\n",
    "                if j != name:\n",
    "                    primary_key_column = All_dfs[j][(pk[j])]\n",
    "                    if primary_key_column.dtype == col.dtype:\n",
    "                        status = col.isin(primary_key_column)\n",
    "                        if status[status== False].size == 0:\n",
    "                            fk[name][col_name] = j \n",
    "                            ref_in[j].add(name)\n",
    "                            break"
   ]
  },
  {
   "cell_type": "markdown",
   "id": "094b5a4a",
   "metadata": {},
   "source": [
    "### Assign Tables to nodes or edges"
   ]
  },
  {
   "cell_type": "code",
   "execution_count": 4,
   "id": "36bc7af4",
   "metadata": {},
   "outputs": [],
   "source": [
    "def nodes_edges(fk):\n",
    "    for f in fk:\n",
    "        if len(fk[f]) == 2:\n",
    "            inner_dict = list(fk[f])\n",
    "            edges[f] = fk[f]\n",
    "        elif len(fk[f]) == 1:\n",
    "            properties[f] = fk[f]\n",
    "        else:\n",
    "            nodes[f] = All_dfs[f]\n",
    "#         else:\n",
    "#             if len(fk[f]) == 1:\n",
    "#                 properties[f] = fk[f]\n",
    "            \n",
    "#             nodes[f] = All_dfs[f]\n",
    "    # for f in fk:\n",
    "    #     if((f not in edges) ):\n",
    "    #         nodes[f] = All_dfs[f]\n",
    "    #         #nodes.append(f)\n",
    "        "
   ]
  },
  {
   "cell_type": "markdown",
   "id": "83acb674",
   "metadata": {},
   "source": [
    "### Create Nodes Table"
   ]
  },
  {
   "cell_type": "code",
   "execution_count": 5,
   "id": "62f17479",
   "metadata": {},
   "outputs": [],
   "source": [
    "def add_nodes(nodes, nodesTable):\n",
    "    for n in range(len(nodes)):\n",
    "        for index, row in nodes[list(nodes.keys())[n]].iterrows():\n",
    "            column_names = list(nodes[list(nodes.keys())[n]].columns) #get column names\n",
    "            att = {}\n",
    "            for i in range(1, len(column_names)):\n",
    "                att[column_names[i]] = nodes[list(nodes.keys())[n]].iloc[index, i]\n",
    "            newRow = [{'Label': list(nodes.keys())[n] , 'ID': nodes[list(nodes.keys())[n]].iloc[index,0] , 'Attributes': att}]\n",
    "            tmp = pd.DataFrame(newRow)\n",
    "            nodesTable = pd.concat([nodesTable, tmp], ignore_index=True)\n",
    "    return nodesTable\n"
   ]
  },
  {
   "cell_type": "markdown",
   "id": "fab162b7",
   "metadata": {},
   "source": [
    "### Create Edges Table"
   ]
  },
  {
   "cell_type": "code",
   "execution_count": 6,
   "id": "7193efa5",
   "metadata": {},
   "outputs": [],
   "source": [
    "def add_edges(edges,edgesTable,pk,fk,ref_in):\n",
    "    for e in edges:\n",
    "        df = All_dfs[e] #df of the cur edge\n",
    "        for r in range(len(df)):\n",
    "            label = list(edges[e].keys())\n",
    "            from_id = nodesTable[(nodesTable[\"Label\"] == edges[e][label[0]]) & (df.loc[r,label[0]] == nodesTable[\"ID\"])]\n",
    "            from_id = from_id.index[0]\n",
    "            to_id = nodesTable[(nodesTable[\"Label\"] == edges[e][label[1]]) & (df.loc[r,label[1]] == nodesTable[\"ID\"])]\n",
    "            to_id = to_id.index[0]\n",
    "            pk_col = pk[e]\n",
    "#             primary_key = df[pk_col].iloc[r]\n",
    "            primary_key = df.loc[r,pk_col]\n",
    "            att = convert_prop(ref_in,e,primary_key,fk)\n",
    "            newRow = [{'From_Node_ID': from_id, 'To_Node_ID': to_id, 'order/service' : att}]\n",
    "            tmp = pd.DataFrame(newRow)\n",
    "            edgesTable = pd.concat([edgesTable, tmp], ignore_index=True)\n",
    "    return edgesTable"
   ]
  },
  {
   "cell_type": "markdown",
   "id": "b212538d",
   "metadata": {},
   "source": [
    "### Properties of the Edge"
   ]
  },
  {
   "cell_type": "code",
   "execution_count": 7,
   "id": "4829dbe7",
   "metadata": {},
   "outputs": [],
   "source": [
    "def convert_prop(ref_in,edge_key, pk_value,fk):\n",
    "    for referenced_table_name in ref_in[edge_key]:\n",
    "        referenced_table = All_dfs[referenced_table_name]\n",
    "        fk_of_ref_table = fk[referenced_table_name]\n",
    "        for foreign_key in fk_of_ref_table:\n",
    "            if fk_of_ref_table[foreign_key] == edge_key:\n",
    "#                 referenced_table[referenced_table[foreign_key]== id]\n",
    "                all_occurances_df = referenced_table[referenced_table[foreign_key]== pk_value].drop([foreign_key],axis=1)\n",
    "                return all_occurances_df.to_dict('records')\n",
    "                "
   ]
  },
  {
   "cell_type": "markdown",
   "id": "0e2c1e35",
   "metadata": {},
   "source": [
    "## Global Variables"
   ]
  },
  {
   "cell_type": "code",
   "execution_count": 8,
   "id": "9fe74450",
   "metadata": {},
   "outputs": [],
   "source": [
    "# {Table name: df}\n",
    "All_dfs = {}\n",
    "# {Table name: Table's Primary key}\n",
    "pk = {}\n",
    "# {Table name: {Column Name: Referenced Table}}\n",
    "fk = {}\n",
    "# {Table name: set(Tables that references the table)}\n",
    "ref_in = {}\n",
    "# {Table name: df}\n",
    "nodes = {}\n",
    "# {Table name: {Column Name: Referenced Table}}\n",
    "edges = {}\n",
    "# _\n",
    "properties = {}\n",
    "# Nodes_df\n",
    "nodesTable = pd.DataFrame(columns=['Label', 'ID', 'Attributes'])\n",
    "# Edges_df\n",
    "edgesTable = pd.DataFrame(columns = ['From_Node_ID', 'To_Node_ID', 'order/service'])\n"
   ]
  },
  {
   "cell_type": "markdown",
   "id": "3bb863a2",
   "metadata": {},
   "source": [
    "## Reading Data Set"
   ]
  },
  {
   "cell_type": "markdown",
   "id": "9aa7852e",
   "metadata": {},
   "source": [
    " creating a dictionary where\n",
    " key: first word of the table name \n",
    " value: df "
   ]
  },
  {
   "cell_type": "code",
   "execution_count": 9,
   "id": "793fb3eb",
   "metadata": {},
   "outputs": [
    {
     "name": "stdout",
     "output_type": "stream",
     "text": [
      "customer_data.csv\n",
      "ExternalOrders_data.csv\n",
      "ExternalServices_data.csv\n",
      "ExternalShipments_data.csv\n",
      "ExternalTransactions.csv\n",
      "facilities_data.csv\n",
      "InternalOrders_data.csv\n",
      "InternalServices_data.csv\n",
      "InternalShipments_data.csv\n",
      "InternalTransactions.csv\n",
      "Manufacturing_data.csv\n",
      "Products_data.csv\n",
      "Retailer_data.csv\n",
      "Supplier_data.csv\n",
      "warehouses_data.csv\n"
     ]
    }
   ],
   "source": [
    "import os\n",
    "path_of_the_directory = './DataSet/'\n",
    "ext = ('.csv')\n",
    "for file in os.listdir(path_of_the_directory):\n",
    "    if file.endswith(ext):\n",
    "        print(file) \n",
    "        temp = (file.replace(\"_\",\" \").replace(\".\",\" \").split(\" \")[0].lower())\n",
    "        All_dfs[temp] = pd.read_csv(path_of_the_directory+file)\n",
    "    else:\n",
    "        continue"
   ]
  },
  {
   "cell_type": "markdown",
   "id": "7cb547a6",
   "metadata": {},
   "source": [
    "### Splitting Shipments tables"
   ]
  },
  {
   "cell_type": "code",
   "execution_count": 10,
   "id": "a61a8f33",
   "metadata": {},
   "outputs": [],
   "source": [
    "SRIntShip = All_dfs[\"internalshipments\"].query('from_to_where == \"SR\"')\n",
    "SRIntShip = SRIntShip.drop(['from_to_where'], axis=1).reset_index(drop = True)\n",
    "#SRIntShip\n",
    "RCExtShip = All_dfs[\"externalshipments\"].query('from_to_where == \"RC\"')\n",
    "RCExtShip = RCExtShip.drop(['from_to_where'], axis=1).reset_index(drop = True)\n",
    "#RCExtShip\n",
    "SSIntShip = All_dfs[\"internalshipments\"].query('from_to_where == \"SS\"')\n",
    "SSIntShip = SSIntShip.drop(['from_to_where'], axis=1).reset_index(drop = True)\n",
    "#SSIntShip\n",
    "SCExtShip = All_dfs[\"externalshipments\"].query('from_to_where == \"SC\"')\n",
    "SCExtShip = SCExtShip.drop(['from_to_where'], axis=1).reset_index(drop = True)\n",
    "#SCExtShip\n",
    "All_dfs[\"RCExtShip\".lower()] = RCExtShip\n",
    "All_dfs[\"SCExtShip\".lower()] = SCExtShip\n",
    "All_dfs[\"SRIntShip\".lower()] = SRIntShip\n",
    "All_dfs[\"SSIntShip\".lower()] = SSIntShip"
   ]
  },
  {
   "cell_type": "markdown",
   "id": "792e06a4",
   "metadata": {},
   "source": [
    "### Splitting Orders Tables"
   ]
  },
  {
   "cell_type": "code",
   "execution_count": 11,
   "id": "e05ff098",
   "metadata": {},
   "outputs": [],
   "source": [
    "filter_list = All_dfs[\"rcextship\"][\"ExtShip_id\"]\n",
    "All_dfs[\"rcextorders\"] = All_dfs[\"externalorders\"].query(\"ExtShip_id.isin(@filter_list)\").reset_index(drop=True)\n",
    "filter_list = All_dfs[\"scextship\"][\"ExtShip_id\"]\n",
    "All_dfs[\"scextorders\"] = All_dfs[\"externalorders\"].query(\"ExtShip_id.isin(@filter_list)\").reset_index(drop=True)\n",
    "filter_list = All_dfs[\"srintship\"][\"IntShip_id\"]\n",
    "All_dfs[\"srintorders\"] = All_dfs[\"internalorders\"].query(\"IntShip_id.isin(@filter_list)\").reset_index(drop=True)\n",
    "filter_list = All_dfs[\"ssintship\"][\"IntShip_id\"]\n",
    "All_dfs[\"ssintorders\"] = All_dfs[\"internalorders\"].query(\"IntShip_id.isin(@filter_list)\").reset_index(drop=True)"
   ]
  },
  {
   "cell_type": "markdown",
   "id": "27b40154",
   "metadata": {},
   "source": [
    "### Removing Redundant Tables"
   ]
  },
  {
   "cell_type": "code",
   "execution_count": 12,
   "id": "1dce7a31",
   "metadata": {},
   "outputs": [
    {
     "data": {
      "text/plain": [
       "dict_keys(['customer', 'externalservices', 'externaltransactions', 'facilities', 'internalservices', 'internaltransactions', 'manufacturing', 'products', 'retailer', 'supplier', 'warehouses', 'rcextship', 'scextship', 'srintship', 'ssintship', 'rcextorders', 'scextorders', 'srintorders', 'ssintorders'])"
      ]
     },
     "execution_count": 12,
     "metadata": {},
     "output_type": "execute_result"
    }
   ],
   "source": [
    "All_dfs.pop(\"internalshipments\")\n",
    "All_dfs.pop(\"externalshipments\")\n",
    "All_dfs.pop(\"externalorders\")\n",
    "All_dfs.pop(\"internalorders\")\n",
    "All_dfs.keys()"
   ]
  },
  {
   "cell_type": "markdown",
   "id": "44151839",
   "metadata": {},
   "source": [
    "### Initialize fk and ref_in"
   ]
  },
  {
   "cell_type": "code",
   "execution_count": 13,
   "id": "d0650994",
   "metadata": {},
   "outputs": [],
   "source": [
    "table_name = list(All_dfs.keys())\n",
    "for table_name in All_dfs:\n",
    "    fk[table_name] = {}\n",
    "    ref_in[table_name] = set()"
   ]
  },
  {
   "cell_type": "markdown",
   "id": "abaac2b1",
   "metadata": {},
   "source": [
    "### Get Primary key for each table"
   ]
  },
  {
   "cell_type": "code",
   "execution_count": 14,
   "id": "2009ba51",
   "metadata": {},
   "outputs": [
    {
     "data": {
      "text/plain": [
       "{'customer': 'cust_id',\n",
       " 'externalservices': 'ExtServ_id',\n",
       " 'externaltransactions': 'ExtTran_id',\n",
       " 'facilities': 'fac_id',\n",
       " 'internalservices': 'IntServ_id',\n",
       " 'internaltransactions': 'IntTran_id',\n",
       " 'manufacturing': 'Different_suppliers',\n",
       " 'retailer': 'retailer_id',\n",
       " 'supplier': 'supp_id',\n",
       " 'warehouses': 'warehouse_id',\n",
       " 'rcextship': 'ExtShip_id',\n",
       " 'scextship': 'ExtShip_id',\n",
       " 'srintship': 'IntShip_id',\n",
       " 'ssintship': 'IntShip_id',\n",
       " 'rcextorders': 'ExtOrders_id',\n",
       " 'scextorders': 'ExtOrders_id',\n",
       " 'srintorders': 'IntOrders_id',\n",
       " 'ssintorders': 'IntOrders_id'}"
      ]
     },
     "execution_count": 14,
     "metadata": {},
     "output_type": "execute_result"
    }
   ],
   "source": [
    "for t in All_dfs:\n",
    "    pk_finder(t,All_dfs[t])\n",
    "pk"
   ]
  },
  {
   "cell_type": "markdown",
   "id": "dcedd35e",
   "metadata": {},
   "source": [
    "### Get Foreing key for each table"
   ]
  },
  {
   "cell_type": "code",
   "execution_count": 15,
   "id": "ea835d03",
   "metadata": {},
   "outputs": [
    {
     "data": {
      "text/plain": [
       "{'customer': {},\n",
       " 'externalservices': {'ExtTrans_id': 'externaltransactions'},\n",
       " 'externaltransactions': {'CompFrom': 'supplier', 'Custto': 'customer'},\n",
       " 'facilities': {'supplier_id': 'supplier'},\n",
       " 'internalservices': {'IntTrans_id': 'internaltransactions'},\n",
       " 'internaltransactions': {'CompFrom': 'supplier', 'Compto': 'supplier'},\n",
       " 'manufacturing': {'Factory_id': 'supplier'},\n",
       " 'products': {},\n",
       " 'retailer': {},\n",
       " 'supplier': {},\n",
       " 'warehouses': {},\n",
       " 'rcextship': {'factoryIds/retailerIds': 'retailer', 'idsTo': 'customer'},\n",
       " 'scextship': {'factoryIds/retailerIds': 'supplier', 'idsTo': 'customer'},\n",
       " 'srintship': {'listSuppIds': 'supplier', 'factoryIds': 'retailer'},\n",
       " 'ssintship': {'listSuppIds': 'supplier', 'factoryIds': 'supplier'},\n",
       " 'rcextorders': {'ExtShip_id': 'rcextship'},\n",
       " 'scextorders': {'ExtShip_id': 'scextship'},\n",
       " 'srintorders': {'IntShip_id': 'srintship'},\n",
       " 'ssintorders': {'IntShip_id': 'ssintship'}}"
      ]
     },
     "execution_count": 15,
     "metadata": {},
     "output_type": "execute_result"
    }
   ],
   "source": [
    "for t in All_dfs:\n",
    "    fk_finder(t,All_dfs[t])\n",
    "fk"
   ]
  },
  {
   "cell_type": "code",
   "execution_count": 16,
   "id": "db523572",
   "metadata": {},
   "outputs": [
    {
     "data": {
      "text/plain": [
       "{'customer': {'externaltransactions', 'rcextship', 'scextship'},\n",
       " 'externalservices': set(),\n",
       " 'externaltransactions': {'externalservices'},\n",
       " 'facilities': set(),\n",
       " 'internalservices': set(),\n",
       " 'internaltransactions': {'internalservices'},\n",
       " 'manufacturing': set(),\n",
       " 'products': set(),\n",
       " 'retailer': {'rcextship', 'srintship'},\n",
       " 'supplier': {'externaltransactions',\n",
       "  'facilities',\n",
       "  'internaltransactions',\n",
       "  'manufacturing',\n",
       "  'scextship',\n",
       "  'srintship',\n",
       "  'ssintship'},\n",
       " 'warehouses': set(),\n",
       " 'rcextship': {'rcextorders'},\n",
       " 'scextship': {'scextorders'},\n",
       " 'srintship': {'srintorders'},\n",
       " 'ssintship': {'ssintorders'},\n",
       " 'rcextorders': set(),\n",
       " 'scextorders': set(),\n",
       " 'srintorders': set(),\n",
       " 'ssintorders': set()}"
      ]
     },
     "execution_count": 16,
     "metadata": {},
     "output_type": "execute_result"
    }
   ],
   "source": [
    "ref_in"
   ]
  },
  {
   "cell_type": "markdown",
   "id": "f82696d5",
   "metadata": {},
   "source": [
    "### Determine nodes and edges"
   ]
  },
  {
   "cell_type": "code",
   "execution_count": 17,
   "id": "0bd250be",
   "metadata": {},
   "outputs": [],
   "source": [
    "nodes_edges(fk)"
   ]
  },
  {
   "cell_type": "code",
   "execution_count": 18,
   "id": "7e2e21fc",
   "metadata": {},
   "outputs": [
    {
     "data": {
      "text/plain": [
       "dict_keys(['customer', 'products', 'retailer', 'supplier', 'warehouses'])"
      ]
     },
     "execution_count": 18,
     "metadata": {},
     "output_type": "execute_result"
    }
   ],
   "source": [
    "nodes.keys()"
   ]
  },
  {
   "cell_type": "code",
   "execution_count": 19,
   "id": "1f29ec0c",
   "metadata": {},
   "outputs": [
    {
     "data": {
      "text/plain": [
       "dict_keys(['externaltransactions', 'internaltransactions', 'rcextship', 'scextship', 'srintship', 'ssintship'])"
      ]
     },
     "execution_count": 19,
     "metadata": {},
     "output_type": "execute_result"
    }
   ],
   "source": [
    "edges.keys()"
   ]
  },
  {
   "cell_type": "code",
   "execution_count": 20,
   "id": "81034106",
   "metadata": {},
   "outputs": [
    {
     "data": {
      "text/plain": [
       "dict_keys(['externalservices', 'facilities', 'internalservices', 'manufacturing', 'rcextorders', 'scextorders', 'srintorders', 'ssintorders'])"
      ]
     },
     "execution_count": 20,
     "metadata": {},
     "output_type": "execute_result"
    }
   ],
   "source": [
    "properties.keys()"
   ]
  },
  {
   "cell_type": "markdown",
   "id": "08a8f9fb",
   "metadata": {},
   "source": [
    "### Create NodesTable"
   ]
  },
  {
   "cell_type": "code",
   "execution_count": 21,
   "id": "1879b866",
   "metadata": {},
   "outputs": [
    {
     "data": {
      "text/html": [
       "<div>\n",
       "<style scoped>\n",
       "    .dataframe tbody tr th:only-of-type {\n",
       "        vertical-align: middle;\n",
       "    }\n",
       "\n",
       "    .dataframe tbody tr th {\n",
       "        vertical-align: top;\n",
       "    }\n",
       "\n",
       "    .dataframe thead th {\n",
       "        text-align: right;\n",
       "    }\n",
       "</style>\n",
       "<table border=\"1\" class=\"dataframe\">\n",
       "  <thead>\n",
       "    <tr style=\"text-align: right;\">\n",
       "      <th></th>\n",
       "      <th>Label</th>\n",
       "      <th>ID</th>\n",
       "      <th>Attributes</th>\n",
       "    </tr>\n",
       "  </thead>\n",
       "  <tbody>\n",
       "    <tr>\n",
       "      <th>0</th>\n",
       "      <td>customer</td>\n",
       "      <td>33736</td>\n",
       "      <td>{'gender': 'F', 'first_name': 'Nadia', 'last_n...</td>\n",
       "    </tr>\n",
       "    <tr>\n",
       "      <th>1</th>\n",
       "      <td>customer</td>\n",
       "      <td>42959</td>\n",
       "      <td>{'gender': 'M', 'first_name': 'Eric', 'last_na...</td>\n",
       "    </tr>\n",
       "    <tr>\n",
       "      <th>2</th>\n",
       "      <td>customer</td>\n",
       "      <td>50653</td>\n",
       "      <td>{'gender': 'F', 'first_name': 'Alessia', 'last...</td>\n",
       "    </tr>\n",
       "    <tr>\n",
       "      <th>3</th>\n",
       "      <td>customer</td>\n",
       "      <td>82485</td>\n",
       "      <td>{'gender': 'M', 'first_name': 'Alexei', 'last_...</td>\n",
       "    </tr>\n",
       "    <tr>\n",
       "      <th>4</th>\n",
       "      <td>customer</td>\n",
       "      <td>56609</td>\n",
       "      <td>{'gender': 'F', 'first_name': 'Brenda', 'last_...</td>\n",
       "    </tr>\n",
       "    <tr>\n",
       "      <th>...</th>\n",
       "      <td>...</td>\n",
       "      <td>...</td>\n",
       "      <td>...</td>\n",
       "    </tr>\n",
       "    <tr>\n",
       "      <th>1195</th>\n",
       "      <td>warehouses</td>\n",
       "      <td>4254</td>\n",
       "      <td>{'country': 'Malaysia', 'city_name': 'Wilayah ...</td>\n",
       "    </tr>\n",
       "    <tr>\n",
       "      <th>1196</th>\n",
       "      <td>warehouses</td>\n",
       "      <td>6678</td>\n",
       "      <td>{'country': 'Morocco', 'city_name': 'Tata', 'c...</td>\n",
       "    </tr>\n",
       "    <tr>\n",
       "      <th>1197</th>\n",
       "      <td>warehouses</td>\n",
       "      <td>1231</td>\n",
       "      <td>{'country': 'Greece', 'city_name': 'Ágion Óros...</td>\n",
       "    </tr>\n",
       "    <tr>\n",
       "      <th>1198</th>\n",
       "      <td>warehouses</td>\n",
       "      <td>4712</td>\n",
       "      <td>{'country': 'Cuba', 'city_name': 'Matanzas', '...</td>\n",
       "    </tr>\n",
       "    <tr>\n",
       "      <th>1199</th>\n",
       "      <td>warehouses</td>\n",
       "      <td>2590</td>\n",
       "      <td>{'country': 'Myanmar', 'city_name': 'Chin', 'c...</td>\n",
       "    </tr>\n",
       "  </tbody>\n",
       "</table>\n",
       "<p>1200 rows × 3 columns</p>\n",
       "</div>"
      ],
      "text/plain": [
       "           Label     ID                                         Attributes\n",
       "0       customer  33736  {'gender': 'F', 'first_name': 'Nadia', 'last_n...\n",
       "1       customer  42959  {'gender': 'M', 'first_name': 'Eric', 'last_na...\n",
       "2       customer  50653  {'gender': 'F', 'first_name': 'Alessia', 'last...\n",
       "3       customer  82485  {'gender': 'M', 'first_name': 'Alexei', 'last_...\n",
       "4       customer  56609  {'gender': 'F', 'first_name': 'Brenda', 'last_...\n",
       "...          ...    ...                                                ...\n",
       "1195  warehouses   4254  {'country': 'Malaysia', 'city_name': 'Wilayah ...\n",
       "1196  warehouses   6678  {'country': 'Morocco', 'city_name': 'Tata', 'c...\n",
       "1197  warehouses   1231  {'country': 'Greece', 'city_name': 'Ágion Óros...\n",
       "1198  warehouses   4712  {'country': 'Cuba', 'city_name': 'Matanzas', '...\n",
       "1199  warehouses   2590  {'country': 'Myanmar', 'city_name': 'Chin', 'c...\n",
       "\n",
       "[1200 rows x 3 columns]"
      ]
     },
     "execution_count": 21,
     "metadata": {},
     "output_type": "execute_result"
    }
   ],
   "source": [
    "nodesTable = add_nodes(nodes,nodesTable)\n",
    "nodesTable"
   ]
  },
  {
   "cell_type": "markdown",
   "id": "892c9f87",
   "metadata": {},
   "source": [
    "### Create Edges Table"
   ]
  },
  {
   "cell_type": "code",
   "execution_count": 22,
   "id": "485262c6",
   "metadata": {},
   "outputs": [
    {
     "data": {
      "text/html": [
       "<div>\n",
       "<style scoped>\n",
       "    .dataframe tbody tr th:only-of-type {\n",
       "        vertical-align: middle;\n",
       "    }\n",
       "\n",
       "    .dataframe tbody tr th {\n",
       "        vertical-align: top;\n",
       "    }\n",
       "\n",
       "    .dataframe thead th {\n",
       "        text-align: right;\n",
       "    }\n",
       "</style>\n",
       "<table border=\"1\" class=\"dataframe\">\n",
       "  <thead>\n",
       "    <tr style=\"text-align: right;\">\n",
       "      <th></th>\n",
       "      <th>From_Node_ID</th>\n",
       "      <th>To_Node_ID</th>\n",
       "      <th>order/service</th>\n",
       "    </tr>\n",
       "  </thead>\n",
       "  <tbody>\n",
       "    <tr>\n",
       "      <th>0</th>\n",
       "      <td>984</td>\n",
       "      <td>140</td>\n",
       "      <td>[]</td>\n",
       "    </tr>\n",
       "    <tr>\n",
       "      <th>1</th>\n",
       "      <td>926</td>\n",
       "      <td>72</td>\n",
       "      <td>[{'ExtServ_id': 8658, 'placed_when': '1998-06-...</td>\n",
       "    </tr>\n",
       "    <tr>\n",
       "      <th>2</th>\n",
       "      <td>965</td>\n",
       "      <td>2</td>\n",
       "      <td>[]</td>\n",
       "    </tr>\n",
       "    <tr>\n",
       "      <th>3</th>\n",
       "      <td>874</td>\n",
       "      <td>137</td>\n",
       "      <td>[]</td>\n",
       "    </tr>\n",
       "    <tr>\n",
       "      <th>4</th>\n",
       "      <td>975</td>\n",
       "      <td>92</td>\n",
       "      <td>[{'ExtServ_id': 7764, 'placed_when': '1973-08-...</td>\n",
       "    </tr>\n",
       "    <tr>\n",
       "      <th>...</th>\n",
       "      <td>...</td>\n",
       "      <td>...</td>\n",
       "      <td>...</td>\n",
       "    </tr>\n",
       "    <tr>\n",
       "      <th>395</th>\n",
       "      <td>959</td>\n",
       "      <td>848</td>\n",
       "      <td>[{'IntOrders_id': 2751, 'quantity': 734, 'plac...</td>\n",
       "    </tr>\n",
       "    <tr>\n",
       "      <th>396</th>\n",
       "      <td>821</td>\n",
       "      <td>971</td>\n",
       "      <td>[{'IntOrders_id': 1084, 'quantity': 784, 'plac...</td>\n",
       "    </tr>\n",
       "    <tr>\n",
       "      <th>397</th>\n",
       "      <td>843</td>\n",
       "      <td>851</td>\n",
       "      <td>[{'IntOrders_id': 4939, 'quantity': 819, 'plac...</td>\n",
       "    </tr>\n",
       "    <tr>\n",
       "      <th>398</th>\n",
       "      <td>821</td>\n",
       "      <td>894</td>\n",
       "      <td>[{'IntOrders_id': 6448, 'quantity': 712, 'plac...</td>\n",
       "    </tr>\n",
       "    <tr>\n",
       "      <th>399</th>\n",
       "      <td>806</td>\n",
       "      <td>1096</td>\n",
       "      <td>[{'IntOrders_id': 5094, 'quantity': 255, 'plac...</td>\n",
       "    </tr>\n",
       "  </tbody>\n",
       "</table>\n",
       "<p>400 rows × 3 columns</p>\n",
       "</div>"
      ],
      "text/plain": [
       "    From_Node_ID To_Node_ID                                      order/service\n",
       "0            984        140                                                 []\n",
       "1            926         72  [{'ExtServ_id': 8658, 'placed_when': '1998-06-...\n",
       "2            965          2                                                 []\n",
       "3            874        137                                                 []\n",
       "4            975         92  [{'ExtServ_id': 7764, 'placed_when': '1973-08-...\n",
       "..           ...        ...                                                ...\n",
       "395          959        848  [{'IntOrders_id': 2751, 'quantity': 734, 'plac...\n",
       "396          821        971  [{'IntOrders_id': 1084, 'quantity': 784, 'plac...\n",
       "397          843        851  [{'IntOrders_id': 4939, 'quantity': 819, 'plac...\n",
       "398          821        894  [{'IntOrders_id': 6448, 'quantity': 712, 'plac...\n",
       "399          806       1096  [{'IntOrders_id': 5094, 'quantity': 255, 'plac...\n",
       "\n",
       "[400 rows x 3 columns]"
      ]
     },
     "execution_count": 22,
     "metadata": {},
     "output_type": "execute_result"
    }
   ],
   "source": [
    "edgesTable = add_edges(edges, edgesTable,pk,fk,ref_in)\n",
    "edgesTable"
   ]
  },
  {
   "cell_type": "code",
   "execution_count": 23,
   "id": "d08dbc3f",
   "metadata": {},
   "outputs": [
    {
     "data": {
      "text/plain": [
       "694420    1\n",
       "894911    1\n",
       "990810    1\n",
       "629057    1\n",
       "698102    1\n",
       "         ..\n",
       "643667    1\n",
       "434354    1\n",
       "419150    1\n",
       "542930    1\n",
       "186890    1\n",
       "Name: fac_id, Length: 2000, dtype: int64"
      ]
     },
     "execution_count": 23,
     "metadata": {},
     "output_type": "execute_result"
    }
   ],
   "source": [
    "All_dfs[\"facilities\"].fac_id.value_counts()"
   ]
  },
  {
   "cell_type": "code",
   "execution_count": 25,
   "id": "71ed87cd",
   "metadata": {},
   "outputs": [
    {
     "data": {
      "text/plain": [
       "{'supplier_id': 'supplier'}"
      ]
     },
     "execution_count": 25,
     "metadata": {},
     "output_type": "execute_result"
    }
   ],
   "source": [
    "facilities = properties['facilities']\n",
    "facilities"
   ]
  }
 ],
 "metadata": {
  "kernelspec": {
   "display_name": "Python 3.9.7",
   "language": "python",
   "name": "python3"
  },
  "language_info": {
   "codemirror_mode": {
    "name": "ipython",
    "version": 3
   },
   "file_extension": ".py",
   "mimetype": "text/x-python",
   "name": "python",
   "nbconvert_exporter": "python",
   "pygments_lexer": "ipython3",
   "version": "3.9.7"
  },
  "vscode": {
   "interpreter": {
    "hash": "bd8840e4b805e6c306030f2f45ef2cb25a3f70d3a477bda7a0575d8107e3354d"
   }
  }
 },
 "nbformat": 4,
 "nbformat_minor": 5
}
